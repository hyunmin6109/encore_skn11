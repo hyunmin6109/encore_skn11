{
 "cells": [
  {
   "cell_type": "markdown",
   "metadata": {},
   "source": [
    "### ndarray 정렬"
   ]
  },
  {
   "cell_type": "code",
   "execution_count": 1,
   "metadata": {},
   "outputs": [],
   "source": [
    "import numpy as np"
   ]
  },
  {
   "cell_type": "markdown",
   "metadata": {},
   "source": [
    "##### 1차원 배열 정렬"
   ]
  },
  {
   "cell_type": "code",
   "execution_count": 22,
   "metadata": {},
   "outputs": [
    {
     "data": {
      "text/plain": [
       "array([ 8,  2,  1,  9,  4, 10,  5,  6,  5,  2], dtype=int32)"
      ]
     },
     "execution_count": 22,
     "metadata": {},
     "output_type": "execute_result"
    }
   ],
   "source": [
    "arr = np.random.randint(1, 11, 10)\n",
    "arr"
   ]
  },
  {
   "cell_type": "code",
   "execution_count": null,
   "metadata": {},
   "outputs": [
    {
     "name": "stdout",
     "output_type": "stream",
     "text": [
      "[ 1  2  2  4  5  5  6  8  9 10]\n",
      "[ 8  2  1  9  4 10  5  6  5  2]\n"
     ]
    }
   ],
   "source": [
    "# np.sort(arr) : 정렬된 ndarray를 반환\n",
    "print(np.sort(arr))\n",
    "print(arr)"
   ]
  },
  {
   "cell_type": "markdown",
   "metadata": {},
   "source": [
    "---"
   ]
  },
  {
   "cell_type": "markdown",
   "metadata": {},
   "source": [
    "##### 2차원 배열 정렬"
   ]
  },
  {
   "cell_type": "code",
   "execution_count": 25,
   "metadata": {},
   "outputs": [
    {
     "data": {
      "text/plain": [
       "array([[2, 1, 4, 8],\n",
       "       [3, 0, 7, 6],\n",
       "       [6, 6, 1, 7]], dtype=int32)"
      ]
     },
     "execution_count": 25,
     "metadata": {},
     "output_type": "execute_result"
    }
   ],
   "source": [
    "arr = np.random.randint(10, size=(3, 4))  # 0 이상 10 미만\n",
    "arr"
   ]
  },
  {
   "cell_type": "code",
   "execution_count": 26,
   "metadata": {},
   "outputs": [
    {
     "data": {
      "text/plain": [
       "array([[1, 2, 4, 8],\n",
       "       [0, 3, 6, 7],\n",
       "       [1, 6, 6, 7]], dtype=int32)"
      ]
     },
     "execution_count": 26,
     "metadata": {},
     "output_type": "execute_result"
    }
   ],
   "source": [
    "np.sort(arr)"
   ]
  },
  {
   "cell_type": "code",
   "execution_count": 28,
   "metadata": {},
   "outputs": [
    {
     "name": "stdout",
     "output_type": "stream",
     "text": [
      "[[2 0 1 6]\n",
      " [3 1 4 7]\n",
      " [6 6 7 8]]\n",
      "[[1 2 4 8]\n",
      " [0 3 6 7]\n",
      " [1 6 6 7]]\n"
     ]
    }
   ],
   "source": [
    "print(np.sort(arr, axis=0)) # 행 방향 정렬(같은 열 안에서 정렬)\n",
    "print(np.sort(arr, axis=1)) # 열 방향 정렬(같은 행 안에서 정렬)"
   ]
  },
  {
   "cell_type": "code",
   "execution_count": null,
   "metadata": {},
   "outputs": [
    {
     "name": "stdout",
     "output_type": "stream",
     "text": [
      "[0 1 1 2 3 4 6 6 6 7 7 8]\n"
     ]
    }
   ],
   "source": [
    "print(np.sort(arr, axis=None))  # axis=None 축 무시(행/열 구분 없이 모든 값 정렬)\n",
    "print(np.sort(arr, axis=None).shape)"
   ]
  },
  {
   "cell_type": "markdown",
   "metadata": {},
   "source": [
    "##### np.argsort\n",
    "- 배열의 값을 정렬 했을때, 원래의 인덱스값을 반환한다.\n",
    "- 정렬할 때 어떤 순서로 값을 배치해야 하는지 알려주는 인덱스를 반환\n",
    "- 배열의 값을 정렬한 후, 정렬된 순서에 해당하는 인덱스값을 반환"
   ]
  },
  {
   "cell_type": "code",
   "execution_count": 32,
   "metadata": {},
   "outputs": [
    {
     "name": "stdout",
     "output_type": "stream",
     "text": [
      "[100 200 300 400]\n",
      "[0 2 3 1]\n"
     ]
    }
   ],
   "source": [
    "arr = np.array([100, 400, 200, 300])\n",
    "print(np.sort(arr))\n",
    "print(np.argsort(arr))"
   ]
  },
  {
   "cell_type": "code",
   "execution_count": 43,
   "metadata": {},
   "outputs": [
    {
     "name": "stdout",
     "output_type": "stream",
     "text": [
      "[1000  900  870  670]\n",
      "[2 0 1 3]\n"
     ]
    },
    {
     "data": {
      "text/plain": [
       "array(['제니', '리사', '로제', '지수'], dtype='<U2')"
      ]
     },
     "execution_count": 43,
     "metadata": {},
     "output_type": "execute_result"
    }
   ],
   "source": [
    "names = np.array([\"리사\", \"로제\", \"제니\", \"지수\"])\n",
    "album_sales = np.array([900, 870, 1000, 670])\n",
    "\n",
    "print(np.sort(album_sales)[::-1])\n",
    "print(np.argsort(album_sales)[::-1])\n",
    "\n",
    "sales_desc = np.argsort(album_sales)[::-1]\n",
    "names[sales_desc]"
   ]
  },
  {
   "cell_type": "code",
   "execution_count": null,
   "metadata": {},
   "outputs": [],
   "source": [
    "# 2차원 배열에서 argsort\n",
    "arr = np.array([[2025, 2, 28], [17, 18, 30]])\n",
    "\n",
    "print(np.argsort(arr))\n",
    "print(np.argsort(arr, axis=1))  # 열 방향 정렬의 순서 (같은 행 안에서 정렬)\n",
    "print(np.argsort(arr, axis=0))  # 행 방향 정렬의 순서 (같은 열 안에서 정렬)"
   ]
  }
 ],
 "metadata": {
  "kernelspec": {
   "display_name": "pystudy_env",
   "language": "python",
   "name": "python3"
  },
  "language_info": {
   "codemirror_mode": {
    "name": "ipython",
    "version": 3
   },
   "file_extension": ".py",
   "mimetype": "text/x-python",
   "name": "python",
   "nbconvert_exporter": "python",
   "pygments_lexer": "ipython3",
   "version": "3.12.9"
  }
 },
 "nbformat": 4,
 "nbformat_minor": 2
}
