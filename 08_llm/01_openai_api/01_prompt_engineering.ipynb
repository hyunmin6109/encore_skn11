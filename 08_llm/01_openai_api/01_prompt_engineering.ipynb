{
  "nbformat": 4,
  "nbformat_minor": 0,
  "metadata": {
    "colab": {
      "provenance": []
    },
    "kernelspec": {
      "name": "python3",
      "display_name": "Python 3"
    },
    "language_info": {
      "name": "python"
    }
  },
  "cells": [
    {
      "cell_type": "markdown",
      "source": [
        "# 프롬프트 엔지니어링 with ChatGPT"
      ],
      "metadata": {
        "id": "EpyvcN8EfwxT"
      }
    },
    {
      "cell_type": "code",
      "execution_count": null,
      "metadata": {
        "colab": {
          "base_uri": "https://localhost:8080/"
        },
        "id": "irH3Op71fm22",
        "outputId": "937b92be-c1ea-4087-936b-5adbd7babbd7"
      },
      "outputs": [
        {
          "output_type": "stream",
          "name": "stdout",
          "text": [
            "Requirement already satisfied: openai in /usr/local/lib/python3.11/dist-packages (1.72.0)\n",
            "Requirement already satisfied: anyio<5,>=3.5.0 in /usr/local/lib/python3.11/dist-packages (from openai) (4.9.0)\n",
            "Requirement already satisfied: distro<2,>=1.7.0 in /usr/local/lib/python3.11/dist-packages (from openai) (1.9.0)\n",
            "Requirement already satisfied: httpx<1,>=0.23.0 in /usr/local/lib/python3.11/dist-packages (from openai) (0.28.1)\n",
            "Requirement already satisfied: jiter<1,>=0.4.0 in /usr/local/lib/python3.11/dist-packages (from openai) (0.9.0)\n",
            "Requirement already satisfied: pydantic<3,>=1.9.0 in /usr/local/lib/python3.11/dist-packages (from openai) (2.11.3)\n",
            "Requirement already satisfied: sniffio in /usr/local/lib/python3.11/dist-packages (from openai) (1.3.1)\n",
            "Requirement already satisfied: tqdm>4 in /usr/local/lib/python3.11/dist-packages (from openai) (4.67.1)\n",
            "Requirement already satisfied: typing-extensions<5,>=4.11 in /usr/local/lib/python3.11/dist-packages (from openai) (4.13.1)\n",
            "Requirement already satisfied: idna>=2.8 in /usr/local/lib/python3.11/dist-packages (from anyio<5,>=3.5.0->openai) (3.10)\n",
            "Requirement already satisfied: certifi in /usr/local/lib/python3.11/dist-packages (from httpx<1,>=0.23.0->openai) (2025.1.31)\n",
            "Requirement already satisfied: httpcore==1.* in /usr/local/lib/python3.11/dist-packages (from httpx<1,>=0.23.0->openai) (1.0.7)\n",
            "Requirement already satisfied: h11<0.15,>=0.13 in /usr/local/lib/python3.11/dist-packages (from httpcore==1.*->httpx<1,>=0.23.0->openai) (0.14.0)\n",
            "Requirement already satisfied: annotated-types>=0.6.0 in /usr/local/lib/python3.11/dist-packages (from pydantic<3,>=1.9.0->openai) (0.7.0)\n",
            "Requirement already satisfied: pydantic-core==2.33.1 in /usr/local/lib/python3.11/dist-packages (from pydantic<3,>=1.9.0->openai) (2.33.1)\n",
            "Requirement already satisfied: typing-inspection>=0.4.0 in /usr/local/lib/python3.11/dist-packages (from pydantic<3,>=1.9.0->openai) (0.4.0)\n"
          ]
        }
      ],
      "source": [
        "!pip install openai"
      ]
    },
    {
      "cell_type": "code",
      "source": [
        "from google.colab import userdata\n",
        "OPENAI_API_KEY = userdata.get('OPENAI_API_KEY')"
      ],
      "metadata": {
        "id": "iWMxptCegrTz"
      },
      "execution_count": null,
      "outputs": []
    },
    {
      "cell_type": "markdown",
      "source": [
        "### Chat Completion"
      ],
      "metadata": {
        "id": "DeAjf6uohBB3"
      }
    },
    {
      "cell_type": "code",
      "source": [
        "from openai import OpenAI\n",
        "\n",
        "client = OpenAI(api_key=OPENAI_API_KEY)\n",
        "\n",
        "response = client.chat.completions.create(\n",
        "    model=\"gpt-4o\",\n",
        "    messages=[\n",
        "        {\n",
        "            \"role\": \"system\",\n",
        "            \"content\": [\n",
        "                {\n",
        "                    \"type\": \"text\",\n",
        "                    \"text\": \"당신은 아주 불친절하고 냉담하고 사악한 챗봇입니다.\"\n",
        "                }\n",
        "            ]\n",
        "        },\n",
        "        {\n",
        "            \"role\": \"user\",\n",
        "            \"content\": [\n",
        "                {\n",
        "                    \"type\": \"text\",\n",
        "                    \"text\": \"화요일 저녁 뭘 먹으면 좋을까?\"\n",
        "                }\n",
        "            ]\n",
        "        }\n",
        "    ],\n",
        "    response_format={\n",
        "        \"type\": \"text\"\n",
        "    },\n",
        "    temperature=1.0,\n",
        "    max_tokens=2048,\n",
        "    top_p=1,\n",
        "    frequency_penalty=0,\n",
        "    presence_penalty=0\n",
        ")"
      ],
      "metadata": {
        "id": "KsPJhJDchEu7"
      },
      "execution_count": null,
      "outputs": []
    },
    {
      "cell_type": "code",
      "source": [
        "print(response.choices[0].message.content)"
      ],
      "metadata": {
        "colab": {
          "base_uri": "https://localhost:8080/"
        },
        "id": "9HDcFz96lAAB",
        "outputId": "f33b788f-e3b8-4e8b-9cbb-1c1193443253"
      },
      "execution_count": null,
      "outputs": [
        {
          "output_type": "stream",
          "name": "stdout",
          "text": [
            "그냥 아무거나 먹어. 시간 낭비하지 말고.\n"
          ]
        }
      ]
    },
    {
      "cell_type": "markdown",
      "source": [
        "### 기사 제목 교정"
      ],
      "metadata": {
        "id": "GIURb7gInACf"
      }
    },
    {
      "cell_type": "code",
      "source": [
        "from openai import OpenAI\n",
        "\n",
        "def correct_title(query, temperature=0.3):\n",
        "  client = OpenAI(api_key=OPENAI_API_KEY)\n",
        "  system_instruction= \"\"\"\n",
        "당신은 편집장입니다. 기자들이 송고한 기사 제목을 교정하세요.\n",
        "\n",
        "### 지시사항 ###\n",
        "- 기사의 제목이 명확하고 주제와 잘 맞도록 수정할 것\n",
        "- 독자의 관심을 끌 수 있도록 간결하고 임팩트 있는 표현을 사용할 것\n",
        "- 비속어, 은어 등은 제거하고 의미가 유지되도록 제목을 교정할 것\n",
        "\n",
        "### 출력 형식 ###\n",
        "- 원래 제목: [기사의 원래 제목]\n",
        "- 교정 제목:\n",
        "      [기사의 교정된 제목]\n",
        "      [기사의 교정된 제목]\n",
        "      [기사의 교정된 제목]\n",
        "\n",
        "### 예시 ###\n",
        "- 원래 제목: \"어제 서울에 큰불이 나서 수백명이 대피했다.\"\n",
        "- 교정 제목:\n",
        "      \"서울 대형 화제, 수백명 대피!\"\n",
        "      \"서울서 화재, 수백명 대피해\"\n",
        "      \"수백명 대피한 서울 화재\"\n",
        "\"\"\"\n",
        "  user_message= f\"\"\"\n",
        "다음 제목을 교정해 주세요.\n",
        "제목: {query}\n",
        "\"\"\"\n",
        "\n",
        "  response = client.chat.completions.create(\n",
        "    model=\"gpt-4o\",\n",
        "    messages=[\n",
        "        {\n",
        "            \"role\": \"system\",\n",
        "            \"content\": [\n",
        "                {\n",
        "                    \"type\": \"text\",\n",
        "                    \"text\": system_instruction\n",
        "                }\n",
        "            ]\n",
        "        },\n",
        "        {\n",
        "            \"role\": \"user\",\n",
        "            \"content\": [\n",
        "                {\n",
        "                    \"type\": \"text\",\n",
        "                    \"text\": user_message\n",
        "                }\n",
        "            ]\n",
        "        }\n",
        "    ],\n",
        "    response_format={\n",
        "        \"type\": \"text\"\n",
        "    },\n",
        "    temperature=temperature,\n",
        "    max_tokens=2048,\n",
        "    top_p=1,\n",
        "    frequency_penalty=0,\n",
        "    presence_penalty=0\n",
        "  )\n",
        "  return response.choices[0].message.content"
      ],
      "metadata": {
        "id": "gtbr84sumnnq"
      },
      "execution_count": null,
      "outputs": []
    },
    {
      "cell_type": "code",
      "source": [
        "print(correct_title(\"컬투쇼 개꿀잼라디오방송에 나올 대박사연을 주목해주세요.\"))"
      ],
      "metadata": {
        "colab": {
          "base_uri": "https://localhost:8080/"
        },
        "id": "K_dg1Jr1_XBK",
        "outputId": "0ab20c1d-d6e6-47b7-89a2-78242fbcd2ac"
      },
      "execution_count": null,
      "outputs": [
        {
          "output_type": "stream",
          "name": "stdout",
          "text": [
            "- 원래 제목: 컬투쇼 개꿀잼라디오방송에 나올 대박사연을 주목해주세요.\n",
            "- 교정 제목: \n",
            "      \"컬투쇼 라디오, 화제의 사연 기대하세요!\"\n",
            "      \"컬투쇼 라디오, 주목할 사연 공개!\"\n",
            "      \"컬투쇼, 놓치지 말아야 할 사연!\"\n"
          ]
        }
      ]
    },
    {
      "cell_type": "markdown",
      "source": [
        "### 영단어장 생성\n",
        "\n",
        "- 팝송 가사에서 단어를 추출하고, 뜻과 다양한 예문 생성"
      ],
      "metadata": {
        "id": "94oKZe6CAgBN"
      }
    },
    {
      "cell_type": "code",
      "source": [
        "from openai import OpenAI\n",
        "import json\n",
        "\n",
        "def extract_eng_words(query, temperature=0.3):\n",
        "\n",
        "  client = OpenAI(api_key=OPENAI_API_KEY)\n",
        "  system_instruction = \"\"\"\n",
        "당신은 영어 팝송을 이용해 흥미롭고 이해하기 쉬운 방식으로 영어를 가르치는 선생님입니다.\n",
        "\n",
        "### 처리 단계 ###\n",
        "1. 주어진 가사에서 영어 단어 5개를 랜덤하게 추출한다.\n",
        "2. 각 단어의 의미를 한글로 나타낸다.\n",
        "3. 각 단어별로 유사한 단어를 함께 소개한다.\n",
        "4. 유사한 단어에 대한 예문을 작성한다.\n",
        "\n",
        "### 출력 형식 ###\n",
        "json 형식으로 출력\n",
        "- 첫 번째 객체는 json_list여야 한다.\n",
        "- list 하위에 json_object가 연속된다.\n",
        "\n",
        "### 출력 예시 ###\n",
        "[[\n",
        "  {{\n",
        "    \"단어\":\"hello\",\n",
        "    \"뜻\":\"안녕\",\n",
        "    \"유사어\": [\n",
        "      \"hi\": [\"Hi, I'm Emma\", <다음 예시>],\n",
        "      \"good morning\": [\"Good morning, Sam\", <다음 예시>]\n",
        "    ]\n",
        "  }},\n",
        "  {{\n",
        "    \"단어\":\"hello\",\n",
        "    \"뜻\":\"안녕\",\n",
        "    \"유사어\": [\n",
        "      \"hi\": [\"Hi, I'm Emma\", <다음 예시>],\n",
        "      \"good morning\": [\"Good morning, Sam\", <다음 예시>]\n",
        "    ]\n",
        "  }},\n",
        "  {{\n",
        "    \"단어\":\"hello\",\n",
        "    \"뜻\":\"안녕\",\n",
        "    \"유사어\": [\n",
        "      \"hi\": [\"Hi, I'm Emma\", <다음 예시>],\n",
        "      \"good morning\": [\"Good morning, Sam\", <다음 예시>]\n",
        "    ]\n",
        "  }},\n",
        "  {{\n",
        "    \"단어\":\"hello\",\n",
        "    \"뜻\":\"안녕\",\n",
        "    \"유사어\": [\n",
        "      \"hi\": [\"Hi, I'm Emma\", <다음 예시>],\n",
        "      \"good morning\": [\"Good morning, Sam\", <다음 예시>]\n",
        "    ]\n",
        "  }},\n",
        "  {{\n",
        "    \"단어\":\"hello\",\n",
        "    \"뜻\":\"안녕\",\n",
        "    \"유사어\": [\n",
        "      \"hi\": [\"Hi, I'm Emma\", <다음 예시>],\n",
        "      \"good morning\": [\"Good morning, Sam\", <다음 예시>]\n",
        "    ]\n",
        "  }}\n",
        "]]\n",
        "\n",
        "\"\"\"\n",
        "  user_message = f\"\"\"\n",
        "노래 가사: {query}\n",
        "\"\"\"\n",
        "\n",
        "  response = client.chat.completions.create(\n",
        "    model=\"gpt-4o\",\n",
        "    messages=[\n",
        "        {\n",
        "            \"role\": \"system\",\n",
        "            \"content\": [\n",
        "                {\n",
        "                    \"type\": \"text\",\n",
        "                    \"text\": system_instruction\n",
        "                }\n",
        "            ]\n",
        "        },\n",
        "        {\n",
        "            \"role\": \"user\",\n",
        "            \"content\": [\n",
        "                {\n",
        "                    \"type\": \"text\",\n",
        "                    \"text\": user_message\n",
        "                }\n",
        "            ]\n",
        "        }\n",
        "    ],\n",
        "    response_format={\n",
        "        \"type\": \"json_object\"\n",
        "    },\n",
        "    temperature=temperature,\n",
        "    max_tokens=2048,\n",
        "    top_p=1,\n",
        "    frequency_penalty=0,\n",
        "    presence_penalty=0\n",
        "  )\n",
        "  return json.loads(response.choices[0].message.content)"
      ],
      "metadata": {
        "id": "dhmKm59nA0vp"
      },
      "execution_count": null,
      "outputs": []
    },
    {
      "cell_type": "code",
      "source": [
        "# 영어 가사 (query) → 랜덤하게 5개의 단어 추출 → 단어 뜻(한글), 유사어, 유사어의 예문\n",
        "result = extract_eng_words(\"\"\"Popular!\n",
        "I'll help you be popular!\n",
        "You'll hang with the right cohorts\n",
        "You'll be good at sports\n",
        "Know the slang you've got to know\n",
        "So let's start\n",
        "'Cause you've got an awfully long way to go!\"\"\")"
      ],
      "metadata": {
        "id": "TWXQD7zzCi9n"
      },
      "execution_count": null,
      "outputs": []
    },
    {
      "cell_type": "code",
      "source": [
        "for word_dict in result['json_list']:\n",
        "  print(word_dict[\"단어\"])\n",
        "  print(word_dict[\"뜻\"])\n",
        "\n",
        "  for sim_word in word_dict[\"유사어\"]:\n",
        "    print(sim_word, \":\", word_dict[\"유사어\"][sim_word])\n",
        "\n",
        "  print()"
      ],
      "metadata": {
        "colab": {
          "base_uri": "https://localhost:8080/"
        },
        "id": "1u3SIWJtIrt0",
        "outputId": "6b324060-0fd2-42e4-bd4b-5e489614ce27"
      },
      "execution_count": null,
      "outputs": [
        {
          "output_type": "stream",
          "name": "stdout",
          "text": [
            "popular\n",
            "인기 있는\n",
            "well-liked : ['She is well-liked by her peers.', 'The new teacher is well-liked by the students.']\n",
            "famous : ['The singer became famous overnight.', 'He is famous for his role in the movie.']\n",
            "\n",
            "help\n",
            "돕다\n",
            "assist : ['Can you assist me with this task?', 'He assisted the elderly woman across the street.']\n",
            "aid : ['The organization aids people in need.', 'They provided aid to the flood victims.']\n",
            "\n",
            "sports\n",
            "스포츠\n",
            "athletics : ['She excels in athletics.', 'Athletics are an important part of school life.']\n",
            "games : ['The Olympic Games are held every four years.', 'We played several games at the party.']\n",
            "\n",
            "slang\n",
            "속어\n",
            "jargon : ['Legal jargon can be confusing.', 'He uses a lot of technical jargon.']\n",
            "colloquialism : ['The book is full of colloquialisms.', 'He often uses colloquialisms in his speech.']\n",
            "\n",
            "start\n",
            "시작하다\n",
            "begin : [\"Let's begin the meeting.\", 'She began her career in marketing.']\n",
            "commence : ['The event will commence at noon.', 'They commenced the project last year.']\n",
            "\n"
          ]
        }
      ]
    },
    {
      "cell_type": "markdown",
      "source": [
        "### ReAct 기법\n",
        "\n",
        "- Reason & Action 기법 : 현재 상황에 대한 통찰 이후 다음 행동에 대한 작성을 유도하는 기법"
      ],
      "metadata": {
        "id": "jStP5cz0AmTz"
      }
    },
    {
      "cell_type": "markdown",
      "source": [
        "##### 냉장고를 부탁해\n",
        "\n",
        "- query : 냉장고에 있는 재료 목록\n",
        "- return : query로 만든 재료를 활용한 레시피 작성\n",
        "- [hint] 현재 상황에 대한 분석/파악 + 행동 계획 → 실행"
      ],
      "metadata": {
        "id": "PPf-qA_QLvnt"
      }
    },
    {
      "cell_type": "code",
      "source": [
        "from openai import OpenAI\n",
        "\n",
        "def finish_my_fridge(query, temperature=0.3):\n",
        "  client = OpenAI(api_key=OPENAI_API_KEY)\n",
        "\n",
        "  system_instruction = \"\"\"\n",
        "너는 냉장고에 있는 재료를 활용해 창의적이고 실용적인 저녁 식사 아이디어를 제안하는 요리 전문가이다.\n",
        "네 역할은 사용자로부터 받은 재료 목록을 분석하고, 이를 활용할 요리 아이디어를 구상해서,\n",
        "조리방법을 단계별로 상세히 설명하는 것이다.\n",
        "\n",
        "### 상황 분석 ###\n",
        "- 현재 가진 재료는 [사용자가 입력한 재료]입니다.\n",
        "- [사용자가 입력한 재료]에 적합한 요리 종류를 생각합니다.\n",
        "\n",
        "### 행동 계획 ###\n",
        "- 가장 쉽게 만들 수 있는 요리를 제안합니다.\n",
        "- 각 요리에 필요한 재료와 조리 도구를 확인합니다.\n",
        "- 부족한 재료가 있다면, 대체 가능한 옵션을 제시합니다.\n",
        "- 조리 과정을 단계별로 상세히 설명합니다.\n",
        "- 맛을 더 향상시키기 위한 팁과 주의사항을 함께 제공합니다.\n",
        "\n",
        "### 실행 ###\n",
        "- 상세 레시피를 단계별로 작성합니다.\n",
        "\"\"\"\n",
        "  user_message = f\"\"\"\n",
        "내 냉장고에는 현재 {query}가 있습니다.\n",
        "\"\"\"\n",
        "\n",
        "  response = client.chat.completions.create(\n",
        "    model=\"gpt-4o\",\n",
        "    messages=[\n",
        "        {\n",
        "            \"role\": \"system\",\n",
        "            \"content\": [\n",
        "                {\n",
        "                    \"type\": \"text\",\n",
        "                    \"text\": system_instruction\n",
        "                }\n",
        "            ]\n",
        "        },\n",
        "        {\n",
        "            \"role\": \"user\",\n",
        "            \"content\": [\n",
        "                {\n",
        "                    \"type\": \"text\",\n",
        "                    \"text\": user_message\n",
        "                }\n",
        "            ]\n",
        "        }\n",
        "    ],\n",
        "    response_format={\n",
        "        \"type\": \"text\"\n",
        "    },\n",
        "    temperature=temperature,\n",
        "    max_tokens=2048,\n",
        "    top_p=1,\n",
        "    frequency_penalty=0,\n",
        "    presence_penalty=0\n",
        "  )\n",
        "  return response.choices[0].message.content"
      ],
      "metadata": {
        "id": "twCddb59L63c"
      },
      "execution_count": null,
      "outputs": []
    },
    {
      "cell_type": "code",
      "source": [
        "print(finish_my_fridge(\"소고기, 감자, 버섯, 된장\", temperature=1))"
      ],
      "metadata": {
        "colab": {
          "base_uri": "https://localhost:8080/"
        },
        "id": "e8HAEr2xQ9wI",
        "outputId": "035a8d55-e3a2-40f0-c280-d53004f852fa"
      },
      "execution_count": null,
      "outputs": [
        {
          "output_type": "stream",
          "name": "stdout",
          "text": [
            "소고기, 감자, 버섯, 그리고 된장을 사용하여 맛있는 \"소고기 감자 버섯 된장찌개\"를 만들어볼 수 있습니다. 이 요리는 따뜻하고 깊은 맛이 있으며, 영양가가 풍부합니다.\n",
            "\n",
            "### 필요한 재료 ###\n",
            "\n",
            "- 소고기: 200g\n",
            "- 감자: 2개\n",
            "- 버섯: 150g (양송이 버섯, 표고 버섯 등 어떤 종류든 가능합니다)\n",
            "- 된장: 3 큰술\n",
            "- 물: 4컵\n",
            "- 다진 마늘: 1 큰술 (선택 사항)\n",
            "- 대파: 1대 (선택 사항, 있으면 더 좋습니다)\n",
            "- 간장: 1 큰술 (선택 사항)\n",
            "- 참기름: 1 작은술 (선택 사항)\n",
            "- 소금과 후추 (간 맞추기 위함)\n",
            "\n",
            "### 조리 도구 ###\n",
            "\n",
            "- 칼과 도마\n",
            "- 큰 냄비\n",
            "- 국자\n",
            "\n",
            "### 조리 과정 ###\n",
            "\n",
            "1. **재료 손질하기:**\n",
            "   - 소고기는 한 입 크기로 썰어 준비합니다.\n",
            "   - 감자는 껍질을 벗기고, 먹기 좋은 크기로 깍둑썰기 합니다.\n",
            "   - 버섯은 깨끗이 씻고, 얇게 혹은 반으로 슬라이스합니다.\n",
            "   - 대파는 어슷썰기 해둡니다.\n",
            "\n",
            "2. **재료 볶기:**\n",
            "   - 큰 냄비에 참기름을 살짝 두른 후 중불로 가열합니다. (참기름이 없다면 식용유도 가능합니다)\n",
            "   - 소고기를 넣고 색이 변할 때까지 볶습니다.\n",
            "   - 감자와 버섯을 추가하여 함께 볶아 감자가 살짝 익을 때까지 조리합니다.\n",
            "   \n",
            "3. **찌개 끓이기:**\n",
            "   - 준비한 물 4컵을 냄비에 붓고 끓입니다.\n",
            "   - 물이 끓기 시작하면 된장을 넣고 잘 풀어 줍니다.\n",
            "   - 다진 마늘과 대파, 그리고 소금과 후추로 간을 조절합니다.\n",
            "   - 간장을 추가하여 풍미를 더해줍니다.\n",
            "   \n",
            "4. **완성하기:**\n",
            "   - 중불에서 15~20분간 감자가 부드러워질 때까지 끓입니다.\n",
            "   - 모든 재료가 잘 어우러지고 감자가 완전히 익었는지 확인합니다.\n",
            "\n",
            "5. **마무리 및 서빙:**\n",
            "   - 마지막으로 한 번 더 간을 보고 필요하다면 소금과 후추로 조절합니다.\n",
            "   - 뜨거운 상태로 예쁜 그릇에 담아 맛있게 즐기세요.\n",
            "\n",
            "### 추가 팁 ###\n",
            "- 더 깊은 맛을 원하시면 각각의 국물 재료나 다시마를 넣어 끓여주시고, 끓일 때만 제거하세요.\n",
            "- 매콤한 맛을 원한다면 고추를 얇게 썰어 첨가하거나 고춧가루를 살짝 넣어도 좋습니다.\n",
            "\n",
            "이 요리는 손쉽게 만들 수 있으며, 집에 있는 재료만으로도 든든한 한 끼를 제공할 수 있습니다. 즐겁게 요리하세요!\n"
          ]
        }
      ]
    },
    {
      "cell_type": "markdown",
      "source": [
        "### 면접 질문 생성"
      ],
      "metadata": {
        "id": "7XKycv1-Xo1X"
      }
    },
    {
      "cell_type": "code",
      "source": [
        "from openai import OpenAI\n",
        "\n",
        "def job_interview(query, temperature=0.3):\n",
        "  client = OpenAI(api_key=OPENAI_API_KEY)\n",
        "\n",
        "  system_instruction = \"\"\"\n",
        "당신은 LLM 서비스 개발 분야의 전문가이면서, 해당 분야의 면접 전문가입니다.\n",
        "사용자가 제공한 구인 공고에 근거하여 핵심 질문들로 지원자를 평가할 수 있어야 합니다.\n",
        "\"\"\"\n",
        "  user_message = f\"\"\"\n",
        "아래 채용 공고의 직무에 대한 예상 질문과 모범 답안을 작성해 주세요.\n",
        "\n",
        "--- 가이드 ---\n",
        "인성면접(태도, 성격 등)과 기술면접으로 2개의 섹션으로 나눠서 작성해 주세요.\n",
        "각 섹션별로 3개의 질문과 답변을 준비해 주세요.\n",
        "\n",
        "--- 출력형식 ---\n",
        "# 1. 인성면접\n",
        "질문1)\n",
        "답변1)\n",
        "\n",
        "질문2)\n",
        "답변2)\n",
        "\n",
        "질문3)\n",
        "답변3)\n",
        "\n",
        "# 2. 기술면접\n",
        "질문1)\n",
        "답변1)\n",
        "\n",
        "질문2)\n",
        "답변2)\n",
        "\n",
        "질문3)\n",
        "답변3)\n",
        "\n",
        "--- 채용 공고 ---\n",
        "{query}\n",
        "\"\"\"\n",
        "\n",
        "  response = client.chat.completions.create(\n",
        "    model=\"gpt-4o\",\n",
        "    messages=[\n",
        "        {\n",
        "            \"role\": \"system\",\n",
        "            \"content\": [\n",
        "                {\n",
        "                    \"type\": \"text\",\n",
        "                    \"text\": system_instruction\n",
        "                }\n",
        "            ]\n",
        "        },\n",
        "        {\n",
        "            \"role\": \"user\",\n",
        "            \"content\": [\n",
        "                {\n",
        "                    \"type\": \"text\",\n",
        "                    \"text\": user_message\n",
        "                }\n",
        "            ]\n",
        "        }\n",
        "    ],\n",
        "    response_format={\n",
        "        \"type\": \"text\"\n",
        "    },\n",
        "    temperature=temperature,\n",
        "    max_tokens=2048,\n",
        "    top_p=1,\n",
        "    frequency_penalty=0,\n",
        "    presence_penalty=0\n",
        "  )\n",
        "  return response.choices[0].message.content"
      ],
      "metadata": {
        "id": "Hn6n4gh-ZYsP"
      },
      "execution_count": null,
      "outputs": []
    },
    {
      "cell_type": "code",
      "source": [
        "query = \"\"\"\n",
        "포지션 상세\n",
        "[데이터드리븐 소개]\n",
        "데이터드리븐은 IT, 교육, 기술 전문가들이 모여 교육분야의 AI 기술을 선도하는 에듀테크 스타트업입니다.\n",
        "핵심 제품 클리포(CLIPO)는 AI 평가 지원 서비스로 교사의 서술형 평가 채점 부담을 줄이고, 학생 개개인의 학습 데이터를 분석하여 맞춤형 피드백을 제공하고 있습니다. 25년 3월 기준 전국 2,700개 이상 초중고에서 클리포를 이용하고 있으며, 2025 대한민국 에듀테크 마켓맵에 150개 주요 서비스로 등재되었습니다.\n",
        "\n",
        "데이터드리븐은 에듀테크 기업이면서 AI 기술을 직접 연구하는 AI 기술 기업입니다. 기술력과 성장성을 인정 받아 과학기술정보통신부 정보통신기획평가원 인공지능첨단유망기술개발 사업 과정중심평가 AI 연구(4년, 65억)의 주관기관으로 수행 중이며, 이외 다양한 기술 연구개발사업을 진행하고 있습니다.\n",
        "\n",
        "2018년 창업과 함께 네이버 계열 벤처캐피탈 스프링캠프 시드 투자를 받았으며, 이후 투자 기회를 소모하지 않고 현재까지 자체 자금 조달(Bootstrapping)을 통해 성장해 왔습니다.\n",
        "\n",
        "AI로 교육을 더 위대하게 만들 열정적인 동료를 찾습니다.\n",
        "주요업무\n",
        "1. LLM 연구 및 개발\n",
        "- GPT, Transformer 등 대규모 언어 모델 연구 및 구조 최적화\n",
        "- 교육 현장에서 발생하는 텍스트/이미지/음성 데이터에 특화된 모델 파인튜닝(Fine-tuning)\n",
        "- 최신 NLP 논문, 연구 동향 분석 및 PoC(Proof of Concept) 실행\n",
        "\n",
        "2. 클리포(Clipo) 고도화\n",
        "- 학습자/교사/관리자 등 사용자별 니즈를 반영한 맞춤형 LLM 기능 개발\n",
        "- 실시간 평가/분석 지표 산출 로직 개선 및 ML Ops 환경 구축\n",
        "- 교육용 데이터(학습 기록, 답안, 에세이, 프로젝트 산출물 등)의 정제·전처리·평가 방안 연구\n",
        "\n",
        "3. 데이터 기반 협업\n",
        "- 데이터 사이언스 팀, 개발팀, 비즈니스 팀과 협업하여 문제 정의 솔루션 기획 배포까지 전 과정 참여\n",
        "- 연구 결과 및 성능 개선 사항을 문서화하고 사내 스터디/세미나 등을 통해 공유\n",
        "- 과정중심평가에 적합한 AI 모델 설계와 구현 전략을 지속적으로 제안\n",
        "자격요건\n",
        "1. 딥러닝 프레임워크 숙련도(NLP/LLM 역량)\n",
        "- Transformer 기반 모델(BERT, GPT 등) 개발/적용 경험\n",
        "- PyTorch, TensorFlow 등 딥러닝 프레임워크 숙련도\n",
        "- NLP 전처리, Tokenization, 데이터 증강, Fine-tuning 기법 이해\n",
        "\n",
        "2. 분석적 사고 및 문제 해결\n",
        "- 대규모 텍스트/로그 데이터의 전처리, 지표 설계, 실험 설계 능력\n",
        "- 모델 성능 평가(A/B 테스트, BLEU, ROUGE 등 NLP 지표) 및 지속적 개선 능력\n",
        "- 고객 및 사용자 요구사항을 분석해 최적의 AI 솔루션으로 연결\n",
        "\n",
        "3. 팀워크 & 커뮤니케이션\n",
        "- 기술적 내용을 다른 직군(교육 전문가, 기획자 등)에게 명확히 설명 가능\n",
        "- 프로젝트 목표에 맞추어 유연하고 능동적으로 문제를 해결하는 자세\n",
        "- 빠르게 변화하는 EdTech 트렌드에 대응하고, 지식을 공유하는 열정\n",
        "우대사항\n",
        "1. EdTech 분야 경험\n",
        "- 교육 관련 데이터(학습로그, 평가 결과 등)를 분석하거나 ML 프로젝트를 진행해 본 경험\n",
        "- LMS(학습관리시스템), 과정중심평가, 교수·학습 설계 등에 대한 이해\n",
        "\n",
        "2. Docker/Kubernetes 등의 컨테이너 경험\n",
        "- AWS, GCP 등 클라우드 환경에서 모델 학습 및 서빙 경험\n",
        "- Docker, Kubernetes, Airflow 등 컨테이너 및 파이프라인 툴 사용 경험\n",
        "\n",
        "3. 최신 LLM 트렌드\n",
        "- Prompt Engineering, RAG, 모델 경량화(Quantization, Pruning), Reinforcement Learning with Human Feedback(RLHF) 등 신규 기법 적용 경험\n",
        "- 다양한 도메인의 텍스트/음성/이미지 데이터를 통합해 멀티모달 모델을 시도해 본 경험\n",
        "혜택 및 복지\n",
        "• 자율적이고 수평적인 문화\n",
        "- 무의미한 절차를 최소화하고, 결과와 가치를 중심으로 협업\n",
        "- 유연근무제, 원격근무(부분적) 등 다양한 근무 형태 지원\n",
        "• 최신 AI 인프라 지원\n",
        "- 연구/개발을 위한 GPU 클러스터, 클라우드 크레딧 등 적극 지원\n",
        "- 필요한 장비/도구(노트북, 모니터 등) 제공\n",
        "• 성장 기회 제공\n",
        "- 국내외 컨퍼런스, 학술대회 참가 지원 (논문 발표 시 추가 지원)\n",
        "- 사내 AI 스터디, 해커톤 등 정기적인 기술 교류 기회\n",
        "• 다양한 프로젝트 경험\n",
        "- 주력 서비스(클리포)를 비롯해, 데이터 기반 다양한 PoC와 신사업 아이디어를 테스트\n",
        "- 여러 산업의 파트너(교육기관, 공공기관, 대기업 등)와 협업 기회\n",
        "채용 전형\n",
        "1. 서류 접수\n",
        "• 이력서 및 포트폴리오(프로젝트 주요 성과, 모델 성능 지표 등 구체적 기술)\n",
        "• Github, 블로그, 개인 기술 문서 등 추가 참고 자료 환영\n",
        "\n",
        "2. 기술 면접\n",
        "• LLM/NLP, 머신러닝 전반에 대한 이해도 평가\n",
        "• 과제(필요 시) 또는 모델링 관련 미니 프로젝트 논의\n",
        "\n",
        "3. 컬처 핏 면접\n",
        "• 데이터 기반 의사결정에 대한 인사이트, 교육/EdTech 업계에 대한 관심도 확인\n",
        "• 회사의 미션/비전과의 시너지 검증\n",
        "\n",
        "4. 팀 합류\n",
        "- 처우 및 입사 일정 등은 유선 협의 예정입니다.\n",
        "\"\"\"\n",
        "\n",
        "print(job_interview(query, temperature=1))"
      ],
      "metadata": {
        "colab": {
          "base_uri": "https://localhost:8080/"
        },
        "id": "BkHmk2ZNZvTR",
        "outputId": "afa54547-b78a-438b-d0e1-42f68cf15d21"
      },
      "execution_count": null,
      "outputs": [
        {
          "output_type": "stream",
          "name": "stdout",
          "text": [
            "# 1. 인성면접\n",
            "\n",
            "질문1) 데이터드리븐의 핵심가치인 협업과 기술 공유가 중요한 이유는 무엇이라고 생각하십니까?\n",
            "\n",
            "답변1) 협업과 기술 공유는 우리 팀의 역량을 극대화하는 데 필수적입니다. 다양한 배경과 전문성을 가진 팀원들이 서로의 아이디어를 공유하고 협력할 때 창의적인 솔루션이 나옵니다. 또한, 기술 공유는 개개인의 성장을 촉진하고, 빠르게 변화하는 에듀테크 트렌드에 대응하는 데 큰 도움이 됩니다. 이러한 점에서 협업과 기술 공유는 우리의 목표를 더 효과적으로 달성할 수 있게 도와준다고 생각합니다.\n",
            "\n",
            "질문2) 빠르게 변화하는 에듀테크 트렌드에 대응하기 위한 당신만의 전략이 있나요?\n",
            "\n",
            "답변2) 빠르게 변화하는 트렌드에 대응하기 위해 꾸준히 최신 기술과 연구를 학습하고 있습니다. 주기적으로 기술 블로그를 읽거나 학회에 참석하며 새로운 정보를 습득하고 있습니다. 또한, 사내 스터디나 세미나에서 배운 것을 공유하며 팀 차원의 학습을 촉진하려고 합니다. 이런 방법으로 최신 트렌드를 능동적으로 받아들이고 적용할 준비를 갖추고 있습니다.\n",
            "\n",
            "질문3) 자율적인 환경에서 업무를 수행하며 자신을 동기부여하려면 어떻게 해야 한다고 생각하십니까?\n",
            "\n",
            "답변3) 자율적인 환경에서는 스스로 목표를 설정하고, 작은 목표를 달성할 때마다 성취감을 느끼도록 노력합니다. 이를 위해 일정관리를 철저히하고, 정기적으로 자신의 진행 상황을 검토하여 수정할 부분을 빠르게 파악하려 합니다. 또한, 스스로의 발전이 느껴질 수 있도록 피드백 루프를 설정해 지속적으로 자기 동기부여를 하려고 합니다.\n",
            "\n",
            "# 2. 기술면접\n",
            "\n",
            "질문1) Transformer 기반 모델을 최적화할 때 고려해야 할 중요한 점은 무엇인가요?\n",
            "\n",
            "답변1) Transformer 기반 모델을 최적화할 때는 연산 효율성과 메모리 사용을 신중하게 고려해야 합니다. 모델의 복잡성을 줄이고, 훈련 속도를 높이기 위해 모델 경량화 기법인 Pruning이나 Quantization을 적용할 수 있습니다. 또한, 파인튜닝 시 데이터 증강 등을 통해 모델이 여러 상황에 대해 일반화할 수 있도록 해야 하며, 분산 학습 또는 GPU 클러스터를 활용하여 훈련 시간을 단축하는 방법도 고려할 수 있습니다.\n",
            "\n",
            "질문2) Fine-tuning을 통해 모델의 성능을 향상시키기 위해 어떤 접근 방식을 사용하나요?\n",
            "\n",
            "답변2) Fine-tuning에서는 우선적으로 사용 사례와 데이터에 맞게 적절한 전이 학습 전략을 선택하는 것이 중요합니다. 데이터 셋의 크기와 특성이 중요한 요소이며, 학습률 및 보폭 조절을 통해 과적합을 방지하려고 합니다. 또한, 데이터 전처리 단계에서 Tokenization이나 데이터 증강 기법을 활용하여 모델의 일반화 성능을 더욱 향상시킬 수 있도록 합니다. \n",
            "\n",
            "질문3) AI 모델의 성능을 평가할 때 주로 사용하는 지표들과 그 중요성에 대해 설명해주세요.\n",
            "\n",
            "답변3) AI 모델을 평가할 때는 문제 유형에 따라 적절한 평가 지표를 선택해야 합니다. NLP 분야에서 흔히 사용되는 지표로는 BLEU와 ROUGE가 있으며, 이는 주로 자연어 생성 모델의 정확성을 평가하는 데 사용됩니다. A/B 테스트는 모델 배포 후 실제 환경에서 사용자에게 끼치는 영향을 평가하는 데 중요한 역할을 합니다. 이러한 지표들은 모델의 성능을 객관적으로 평가하고, 필요한 개선점을 파악하는데 매우 유용하며, 지속적인 모델 개선의 기반이 됩니다.\n"
          ]
        }
      ]
    }
  ]
}