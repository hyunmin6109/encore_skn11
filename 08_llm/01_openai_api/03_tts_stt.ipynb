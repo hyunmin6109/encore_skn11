{
 "cells": [
  {
   "cell_type": "code",
   "execution_count": 1,
   "metadata": {
    "colab": {
     "base_uri": "https://localhost:8080/"
    },
    "id": "MAYU7h5dtuOq",
    "outputId": "10515972-0df8-4c46-e97a-ec0381562a15"
   },
   "outputs": [
    {
     "name": "stdout",
     "output_type": "stream",
     "text": [
      "Collecting dotenv\n",
      "  Downloading dotenv-0.9.9-py2.py3-none-any.whl.metadata (279 bytes)\n",
      "Collecting python-dotenv (from dotenv)\n",
      "  Downloading python_dotenv-1.1.0-py3-none-any.whl.metadata (24 kB)\n",
      "Downloading dotenv-0.9.9-py2.py3-none-any.whl (1.9 kB)\n",
      "Downloading python_dotenv-1.1.0-py3-none-any.whl (20 kB)\n",
      "Installing collected packages: python-dotenv, dotenv\n",
      "Successfully installed dotenv-0.9.9 python-dotenv-1.1.0\n"
     ]
    }
   ],
   "source": [
    "!pip install dotenv"
   ]
  },
  {
   "cell_type": "code",
   "execution_count": 2,
   "metadata": {
    "colab": {
     "base_uri": "https://localhost:8080/"
    },
    "id": "n2ZWMf2wBMX5",
    "outputId": "35253e51-e3cb-42b8-a290-21b151941f22"
   },
   "outputs": [
    {
     "data": {
      "text/plain": [
       "True"
      ]
     },
     "execution_count": 2,
     "metadata": {},
     "output_type": "execute_result"
    }
   ],
   "source": [
    "from dotenv import load_dotenv\n",
    "\n",
    "load_dotenv()"
   ]
  },
  {
   "cell_type": "markdown",
   "metadata": {
    "id": "gT1E-5rJ_SHf"
   },
   "source": [
    "# TTS (Text To Speech)\n",
    "\n",
    "- TTS 모델은 텍스트를 자연스러운 음성으로 변환하는 AI 모델이다.\n",
    "  - tts-1 : 실시간 텍스트-음성 변환에 최적화된 최신 모델로 속도에 중점. 텍스트를 음성으로 빠르게 변환하는 기능 제공.\n",
    "  - tts-1-hd : 품질에 최적화된 최신 텍스트-음성 변환 모델로 높은 품질에 중점. 음성의 자연스러움과 선명도 강조.\n",
    "- 음성 선택지\n",
    "  - Alloy: 부드럽고 자연스러운 톤의 음성\n",
    "  - Echo: 명확하고 자신감 있는 음성\n",
    "  - Fable: 이야기 전달에 적합한 서정적인 음성\n",
    "  - Onyx: 전문적이고 신뢰감을 주는 음성\n",
    "  - Nova: 활기차고 에너지 넘치는 음성\n",
    "  - Shimmer: 부드럽고 진정시키는 음성"
   ]
  },
  {
   "cell_type": "code",
   "execution_count": 3,
   "metadata": {
    "id": "p6eGtsofBYld"
   },
   "outputs": [],
   "source": [
    "from openai import OpenAI\n",
    "\n",
    "client = OpenAI()\n",
    "\n",
    "input_text = \"사람의 귀천은 행실이 가늠하는 것이지.신분의 고하에 구애되지를 않는다. 신분의 한계를 핑계 삼아서 헛되이 살지 말거라.의원이라고 자처하는 하고 많은 부류 중에 내가 진실로 의원으로 인정하는 것은 심의뿐이다. 병자를 대하여 진실로 긍휼히 여기는 마음가짐이 있어야. 허명만 좇지 말고. 세상에 진실로 기다리고 있는 의원은 오로지 심의 뿐이라는 것을 명심해라.\"\n",
    "\n",
    "with client.audio.speech.with_streaming_response.create(\n",
    "    model=\"tts-1\",\n",
    "    voice=\"fable\",\n",
    "    input=input_text\n",
    ") as response:\n",
    "  response.stream_to_file(\"tts_output.mp3\")"
   ]
  },
  {
   "cell_type": "markdown",
   "metadata": {
    "id": "kGDza0a0_Se2"
   },
   "source": [
    "# STT (Speech To Text)\n",
    "\n",
    "- Whisper는 OpenAI에서 개발한 범용 음성 인식 모델로, 다양한 오디오 데이터셋을 학습하여 다국어 음성 인식, 음성 번역, 언어 식별 등의 작업을 수행할 수 있다."
   ]
  },
  {
   "cell_type": "code",
   "execution_count": 4,
   "metadata": {
    "colab": {
     "base_uri": "https://localhost:8080/"
    },
    "id": "ODuCYdlpGWCr",
    "outputId": "632a853d-2e76-46ff-db98-cae8b45b539e"
   },
   "outputs": [
    {
     "name": "stdout",
     "output_type": "stream",
     "text": [
      "Transcription(text='사람의 귀천은 행실이 가늠하는 것이지 신분의 고아에 구애되지 를 않는다. 신분의 한계를 핑계삼아서 헛되이 살지 말거라 의원이라고 자처하는 하고 많은 부류 중에 내가 진실로 의원으로 인정하는 것은 심의뿐 이다. 병자를 대하여 진실로 근큐리 여기는 마음가짐이 있어야 허명만 줬지 말고 세상에 진실로 기다리고 있는 의원은 오로지 심의뿐이라는 것을 명심해라.', logprobs=None)\n"
     ]
    }
   ],
   "source": [
    "from openai import OpenAI\n",
    "\n",
    "client = OpenAI()\n",
    "\n",
    "with open(\"tts_output.mp3\", \"rb\") as f:\n",
    "  transcriptions = client.audio.transcriptions.create(\n",
    "      model='whisper-1',\n",
    "      file=f\n",
    "  )\n",
    "  print(transcriptions)"
   ]
  },
  {
   "cell_type": "markdown",
   "metadata": {},
   "source": [
    "---"
   ]
  },
  {
   "cell_type": "markdown",
   "metadata": {},
   "source": [
    "# gTTS"
   ]
  },
  {
   "cell_type": "code",
   "execution_count": 1,
   "metadata": {
    "ExecuteTime": {
     "end_time": "2025-04-20T12:57:33.593230Z",
     "start_time": "2025-04-20T12:57:32.326609Z"
    }
   },
   "outputs": [
    {
     "name": "stdout",
     "output_type": "stream",
     "text": [
      "Collecting gtts\n",
      "  Downloading gTTS-2.5.4-py3-none-any.whl.metadata (4.1 kB)\n",
      "Requirement already satisfied: requests<3,>=2.27 in c:\\users\\wonov\\miniconda3\\lib\\site-packages (from gtts) (2.32.3)\n",
      "Requirement already satisfied: click<8.2,>=7.1 in c:\\users\\wonov\\miniconda3\\lib\\site-packages (from gtts) (8.1.8)\n",
      "Requirement already satisfied: colorama in c:\\users\\wonov\\miniconda3\\lib\\site-packages (from click<8.2,>=7.1->gtts) (0.4.6)\n",
      "Requirement already satisfied: charset-normalizer<4,>=2 in c:\\users\\wonov\\miniconda3\\lib\\site-packages (from requests<3,>=2.27->gtts) (3.4.1)\n",
      "Requirement already satisfied: idna<4,>=2.5 in c:\\users\\wonov\\miniconda3\\lib\\site-packages (from requests<3,>=2.27->gtts) (3.10)\n",
      "Requirement already satisfied: urllib3<3,>=1.21.1 in c:\\users\\wonov\\miniconda3\\lib\\site-packages (from requests<3,>=2.27->gtts) (2.3.0)\n",
      "Requirement already satisfied: certifi>=2017.4.17 in c:\\users\\wonov\\miniconda3\\lib\\site-packages (from requests<3,>=2.27->gtts) (2025.1.31)\n",
      "Downloading gTTS-2.5.4-py3-none-any.whl (29 kB)\n",
      "Installing collected packages: gtts\n",
      "Successfully installed gtts-2.5.4\n"
     ]
    }
   ],
   "source": [
    "!pip install gtts"
   ]
  },
  {
   "cell_type": "code",
   "execution_count": 2,
   "metadata": {
    "ExecuteTime": {
     "end_time": "2025-04-20T12:57:36.171154Z",
     "start_time": "2025-04-20T12:57:35.707577Z"
    }
   },
   "outputs": [],
   "source": [
    "from gtts import gTTS\n",
    "\n",
    "tts = gTTS(text=\"안녕하세요. 저는 래빗입니다. 좋은 하루입니다!\", lang=\"ko\")\n",
    "\n",
    "tts.save('gtts_output.mp3')"
   ]
  },
  {
   "cell_type": "markdown",
   "metadata": {},
   "source": [
    "# SpeechRecognition"
   ]
  },
  {
   "cell_type": "code",
   "execution_count": null,
   "metadata": {
    "ExecuteTime": {
     "end_time": "2025-04-20T12:57:50.182251Z",
     "start_time": "2025-04-20T12:57:45.065288Z"
    }
   },
   "outputs": [],
   "source": [
    "!pip install SpeechRecognition"
   ]
  },
  {
   "cell_type": "code",
   "execution_count": null,
   "metadata": {
    "ExecuteTime": {
     "end_time": "2025-04-20T12:57:54.416878Z",
     "start_time": "2025-04-20T12:57:53.422379Z"
    }
   },
   "outputs": [],
   "source": [
    "!pip install pydub pyaudio"
   ]
  },
  {
   "cell_type": "code",
   "execution_count": null,
   "metadata": {
    "ExecuteTime": {
     "end_time": "2025-04-20T12:58:05.177338Z",
     "start_time": "2025-04-20T12:57:56.747663Z"
    }
   },
   "outputs": [],
   "source": [
    "# 음성 입력 -> 텍스트 출력\n",
    "import speech_recognition as sr\n",
    "\n",
    "recognizer = sr.Recognizer()\n",
    "\n",
    "while True: # 마이크로부터 음성을 계속 입력받기 위한 무한 루프\n",
    "    with sr.Microphone() as source: # 마이크로부터 음성 감지\n",
    "        print(\"말씀하세요.\")\n",
    "        audio = recognizer.listen(source) # 음성 데이터 수집\n",
    "        txt = recognizer.recognize_google(audio, language='ko-KR') # 음성 -> 텍스트 변환\n",
    "        print(txt)"
   ]
  },
  {
   "cell_type": "code",
   "execution_count": null,
   "metadata": {
    "ExecuteTime": {
     "end_time": "2025-04-20T12:58:06.985237Z",
     "start_time": "2025-04-20T12:58:06.732176Z"
    }
   },
   "outputs": [],
   "source": [
    "from pydub import AudioSegment\n",
    "import speech_recognition as sr\n",
    "\n",
    "# .mp3 -> .wav 변환\n",
    "audio = AudioSegment.from_mp3('gtts_output.mp3')\n",
    "audio.export('gtts_output_wav.wav', format='wav')\n",
    "\n",
    "# 파일 로드\n",
    "r = sr.Recognizer()\n",
    "input_audio = sr.AudioFile('gtts_output_wav.wav')\n",
    "\n",
    "# 음성 데이터 -> 텍스트 변환\n",
    "with input_audio as source:\n",
    "    audio = r.record(source)\n",
    "\n",
    "result_txt = r.recognize_google(audio_data=audio, language='ko_KR')\n",
    "print(result_txt)"
   ]
  }
 ],
 "metadata": {
  "colab": {
   "provenance": []
  },
  "kernelspec": {
   "display_name": "pystudy_env",
   "language": "python",
   "name": "python3"
  },
  "language_info": {
   "codemirror_mode": {
    "name": "ipython",
    "version": 3
   },
   "file_extension": ".py",
   "mimetype": "text/x-python",
   "name": "python",
   "nbconvert_exporter": "python",
   "pygments_lexer": "ipython3",
   "version": "3.12.9"
  }
 },
 "nbformat": 4,
 "nbformat_minor": 0
}
