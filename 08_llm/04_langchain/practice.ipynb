{
 "cells": [
  {
   "cell_type": "markdown",
   "id": "af3222f7",
   "metadata": {},
   "source": [
    "# 환경 설정"
   ]
  },
  {
   "cell_type": "markdown",
   "id": "649bb8ae",
   "metadata": {},
   "source": [
    "### Chain을 이용한 Simple LLM\n",
    "1. promptTemplate\n",
    "2. LLM\n",
    "3. OutputParser"
   ]
  },
  {
   "cell_type": "code",
   "execution_count": 14,
   "id": "cb1f1243",
   "metadata": {},
   "outputs": [
    {
     "data": {
      "text/plain": [
       "True"
      ]
     },
     "execution_count": 14,
     "metadata": {},
     "output_type": "execute_result"
    }
   ],
   "source": [
    "from dotenv import load_dotenv     # dotenv 파일에서 환경변수 로드\n",
    "load_dotenv()                      # .env 파일에서 환경변수 로드"
   ]
  },
  {
   "cell_type": "code",
   "execution_count": 15,
   "id": "1691ef72",
   "metadata": {},
   "outputs": [],
   "source": [
    "# 1. PromptTemplate\n",
    "from langchain_core.prompts import ChatPromptTemplate   # 랭체인코어 -> 고급 기술을 가지고 있음\n",
    "\n",
    "# 시스템 메시지와 사용자 메시지를 포함하는 프롬프트 템플릿 생성\n",
    "# 프롬프트 템플릿은 시스템 메시지와 사용자 메시지를 포함하는 리스트로 구성됨\n",
    "# 시스템 메시지는 챗봇의 역할을 정의하고, 사용자 메시지는 사용자가 입력할 질문을 나타냄\n",
    "prompt_template = ChatPromptTemplate([\n",
    "    ('system', '너는 애니메이션을 잘 아는 챗봇이야. 사용자의 질문에 친절하고 상세하게 답변할 수 있어.'),    # 시스템 메시지\n",
    "    ('user', '질문: {question}')  # 사용자 메시지, {question}은 사용자가 입력할 질문을 나타냄\n",
    "])  \n"
   ]
  },
  {
   "cell_type": "code",
   "execution_count": 16,
   "id": "a2756e49",
   "metadata": {},
   "outputs": [],
   "source": [
    "# 2. Model\n",
    "from langchain_openai import ChatOpenAI   # OpenAI의 챗 모델을 사용하기 위한 라이브러리\n",
    "\n",
    "model = ChatOpenAI(\n",
    "    model_name='gpt-4o-mini',   # 사용할 모델 이름\n",
    "    temperature=0.3,           # 생성되는 텍스트의 다양성을 조절하는 파라미터 (0.0 ~ 1.0)\n",
    "\n",
    ")"
   ]
  },
  {
   "cell_type": "code",
   "execution_count": 17,
   "id": "4ae13a8f",
   "metadata": {},
   "outputs": [],
   "source": [
    "# 3. OutputParser (StrOutputParser)\n",
    "from langchain_core.output_parsers import StrOutputParser   # 출력 파서를 사용하기 위한 라이브러리\n",
    "\n",
    "# 문자열 출력 파서 생성 \n",
    "output_parser = StrOutputParser()   # 문자열 형식으로 출력 결과를 파싱하는 역할을 한다 이 파서는 모델의 출력을 문자열로 변환하여 반환함"
   ]
  },
  {
   "cell_type": "code",
   "execution_count": 20,
   "id": "2bb34326",
   "metadata": {},
   "outputs": [
    {
     "data": {
      "text/plain": [
       "'포켓몬 세계에서 \"가장 강한\" 포켓몬을 정의하는 것은 다소 복잡할 수 있습니다. 이는 포켓몬의 스탯, 타입, 기술, 전략 등에 따라 달라질 수 있기 때문입니다. 그러나 몇 가지 일반적으로 강하다고 여겨지는 포켓몬을 소개하자면:\\n\\n1. **아르세우스 (Arceus)**: 전설의 포켓몬으로, 모든 타입으로 변할 수 있는 능력을 가지고 있습니다. 기본 스탯 총합이 매우 높아 다양한 상황에서 강력한 성능을 발휘할 수 있습니다.\\n\\n2. **뮤츠 (Mewtwo)**: 첫 번째 세대의 전설 포켓몬 중 하나로, 높은 스페셜 스탯과 강력한 공격 기술을 가지고 있어 여전히 많은 팬들 사이에서 강력한 포켓몬으로 여겨집니다.\\n\\n3. **레쿠쟈 (Rayquaza)**: 드래곤/비행 타입의 전설 포켓몬으로, 메가 진화를 통해 더욱 강력해질 수 있습니다.\\n\\n4. **에테르나무스 (Eternatus)**: 8세대에서 등장한 전설 포켓몬으로, 높은 스탯과 강력한 기술을 보유하고 있습니다.\\n\\n5. **자시안 (Zacian)**: 특히 \"왕의 검\" 형태일 때 매우 강력하며, 높은 공격력과 스피드를 자랑합니다.\\n\\n이 외에도 메가 진화, 다이맥스, 기가맥스 등의 요소에 따라 다양한 포켓몬이 강력한 성능을 발휘할 수 있습니다. 또한, 배틀 환경이나 전략에 따라 특정 포켓몬이 더 유리할 수 있으니, 자신의 플레이 스타일에 맞는 포켓몬을 선택하는 것이 중요합니다.'"
      ]
     },
     "execution_count": 20,
     "metadata": {},
     "output_type": "execute_result"
    }
   ],
   "source": [
    "# 4. Chain -> 질의\n",
    "# question: 어떤 포켓몬이 가장 강해?\n",
    "\n",
    "# 프롬프트 템플릿, 모델, 출력 파서를 연결하여 체인 생성\n",
    "chain = prompt_template | model | output_parser  # 체인은 입력을 받아서 출력으로 변환하는 일련의 단계를 정의하는 객체이다 \n",
    "                                                 # 체인은 프롬프트 템플릿, 모델, 출력 파서를 연결하여 생성됨\n",
    "\n",
    "\n",
    "chain.invoke({\"question\": \"어떤 포켓몬이 가장 강해?\"})   # 체인에 질문을 입력하여 결과를 출력함\n"
   ]
  },
  {
   "cell_type": "code",
   "execution_count": null,
   "id": "2689d586",
   "metadata": {},
   "outputs": [
    {
     "data": {
      "text/plain": [
       "'포켓몬 세계에서 \"가장 강한\" 포켓몬을 정의하는 것은 다소 복잡할 수 있습니다. 이는 포켓몬의 스탯, 타입, 기술, 전략, 그리고 배틀 환경에 따라 달라질 수 있기 때문입니다. 그러나 몇몇 포켓몬은 전통적으로 강력하다고 평가받습니다.\\n\\n1. **아르세우스 (Arceus)**: 전설의 포켓몬으로, 모든 타입으로 변할 수 있는 능력을 가지고 있습니다. 기본 스탯 총합이 720으로, 매우 높은 편입니다.\\n\\n2. **뮤츠 (Mewtwo)**: 첫 번째 세대의 전설적인 포켓몬으로, 강력한 스페셜 어택과 스피드를 자랑합니다. 메가 진화 형태도 두 가지가 있어 더욱 강력해질 수 있습니다.\\n\\n3. **레쿠쟈 (Rayquaza)**: 메가 진화를 통해 더욱 강력해지며, 다양한 공격 기술을 사용할 수 있습니다.\\n\\n4. **에테르나무스 (Eternatus)**: 특히 다이맥스 형태인 이터너맥스는 게임 내에서 매우 강력한 존재로 묘사됩니다.\\n\\n5. **자시안 (Zacian)**: 특히 \"검의 왕\" 형태에서는 매우 높은 공격력을 자랑합니다.\\n\\n이 외에도 다양한 전설의 포켓몬과 메가 진화, 다이맥스, 기가맥스 형태의 포켓몬들이 강력한 능력을 가지고 있습니다. 배틀에서의 강함은 상대와의 상성, 전략, 그리고 플레이어의 전술에 따라 크게 달라질 수 있습니다.'"
      ]
     },
     "execution_count": 23,
     "metadata": {},
     "output_type": "execute_result"
    }
   ],
   "source": [
    "# 2번째 출력방식(편한대로 선택택)\n",
    "from langchain_core.runnables import RunnableSequence   # 체인을 실행하기 위한 라이브러리\n",
    "\n",
    "chain = RunnableSequence(prompt_template, model, output_parser)   # 체인을 실행하여 결과를 출력함\n",
    "chain.invoke({\"question\": \"어떤 포켓몬이 가장 강해?\"})   # 체인에 질문을 입력하여 결과를 출력함"
   ]
  },
  {
   "cell_type": "code",
   "execution_count": null,
   "id": "a3d617bc",
   "metadata": {},
   "outputs": [],
   "source": []
  }
 ],
 "metadata": {
  "kernelspec": {
   "display_name": "vectordb_env",
   "language": "python",
   "name": "python3"
  },
  "language_info": {
   "codemirror_mode": {
    "name": "ipython",
    "version": 3
   },
   "file_extension": ".py",
   "mimetype": "text/x-python",
   "name": "python",
   "nbconvert_exporter": "python",
   "pygments_lexer": "ipython3",
   "version": "3.9.21"
  }
 },
 "nbformat": 4,
 "nbformat_minor": 5
}
