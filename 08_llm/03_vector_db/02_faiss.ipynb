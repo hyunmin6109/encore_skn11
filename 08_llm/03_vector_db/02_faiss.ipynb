{
 "cells": [
  {
   "cell_type": "markdown",
   "id": "1328a9b8",
   "metadata": {},
   "source": [
    "# FAISS DB\n",
    "- Facebook AI Similarity Search"
   ]
  },
  {
   "cell_type": "code",
   "execution_count": 26,
   "id": "142b5226",
   "metadata": {},
   "outputs": [
    {
     "name": "stdout",
     "output_type": "stream",
     "text": [
      "Requirement already satisfied: faiss-cpu in c:\\users\\playdata\\anaconda3\\envs\\vectordb_env\\lib\\site-packages (1.10.0)\n",
      "Requirement already satisfied: numpy<3.0,>=1.25.0 in c:\\users\\playdata\\anaconda3\\envs\\vectordb_env\\lib\\site-packages (from faiss-cpu) (2.0.2)\n",
      "Requirement already satisfied: packaging in c:\\users\\playdata\\anaconda3\\envs\\vectordb_env\\lib\\site-packages (from faiss-cpu) (24.2)\n"
     ]
    }
   ],
   "source": [
    "!pip install faiss-cpu\n",
    "# !pip install faiss-gpu"
   ]
  },
  {
   "cell_type": "markdown",
   "id": "385cc6b0",
   "metadata": {},
   "source": [
    "### 영화 추천 시스템"
   ]
  },
  {
   "cell_type": "code",
   "execution_count": 27,
   "id": "1b51d56c",
   "metadata": {},
   "outputs": [],
   "source": [
    "import faiss\n",
    "import numpy as np\n",
    "from sentence_transformers import SentenceTransformer\n",
    "\n",
    "model = SentenceTransformer('all-MiniLM-L6-v2')"
   ]
  },
  {
   "cell_type": "code",
   "execution_count": 28,
   "id": "8cdad5d4",
   "metadata": {},
   "outputs": [],
   "source": [
    "movies = [\n",
    "    {\"id\": 0, \"title\": \"인셉션\", \"description\": \"꿈속에서 다른 사람의 생각을 조작하는 스토리\"},\n",
    "    {\"id\": 1, \"title\": \"기생충\", \"description\": \"가난한 가족이 부유한 집에 점점 스며드는 이야기\"},\n",
    "    {\"id\": 2, \"title\": \"인터스텔라\", \"description\": \"인류의 생존을 위해 우주로 떠나는 아버지의 여정\"},\n",
    "    {\"id\": 3, \"title\": \"타이타닉\", \"description\": \"운명적인 사랑과 침몰하는 배에서의 비극적인 이야기\"},\n",
    "    {\"id\": 4, \"title\": \"어벤져스: 엔드게임\", \"description\": \"사라진 인류를 되찾기 위한 히어로들의 마지막 전투\"},\n",
    "    {\"id\": 5, \"title\": \"스파이더맨: 노 웨이 홈\", \"description\": \"정체가 드러난 스파이더맨이 다중우주 속 문제에 맞서는 이야기\"},\n",
    "    {\"id\": 6, \"title\": \"라라랜드\", \"description\": \"꿈을 좇는 연인들의 아름답고도 쓸쓸한 사랑 이야기\"},\n",
    "    {\"id\": 7, \"title\": \"조커\", \"description\": \"한 남자가 광대에서 범죄자로 변해가는 심리 드라마\"},\n",
    "    {\"id\": 8, \"title\": \"매드 맥스: 분노의 도로\", \"description\": \"황폐한 미래에서 자유를 위해 싸우는 전사들의 이야기\"},\n",
    "    {\"id\": 9, \"title\": \"겨울왕국\", \"description\": \"자신의 능력을 받아들이고 가족의 사랑을 찾는 자매의 모험\"},\n",
    "    {\"id\": 10, \"title\": \"올드보이\", \"description\": \"15년간 감금된 남자의 복수극\"},\n",
    "    {\"id\": 11, \"title\": \"해리 포터와 마법사의 돌\", \"description\": \"마법 세계로 입문한 소년의 첫 번째 모험\"},\n",
    "    {\"id\": 12, \"title\": \"반지의 제왕: 반지 원정대\", \"description\": \"세상을 구하기 위해 반지를 파괴하려는 원정대의 여정\"},\n",
    "    {\"id\": 13, \"title\": \"아바타\", \"description\": \"판도라 행성에서 벌어지는 인간과 나비족의 갈등\"},\n",
    "    {\"id\": 14, \"title\": \"어바웃 타임\", \"description\": \"시간여행 능력을 가진 남자의 인생과 사랑 이야기\"},\n",
    "    {\"id\": 15, \"title\": \"보헤미안 랩소디\", \"description\": \"퀸과 프레디 머큐리의 음악과 인생을 그린 이야기\"},\n",
    "    {\"id\": 16, \"title\": \"이터널스\", \"description\": \"수천 년을 살아온 초능력자들의 지구 수호 이야기\"},\n",
    "    {\"id\": 17, \"title\": \"미나리\", \"description\": \"미국으로 이주한 한인 가족의 정착과 희망의 이야기\"},\n",
    "    {\"id\": 18, \"title\": \"캐롤\", \"description\": \"1950년대 여성들의 금지된 사랑과 선택의 이야기\"},\n",
    "    {\"id\": 19, \"title\": \"벌새\", \"description\": \"사춘기 소녀의 내면 성장과 가족, 사회 속 고독\"}\n",
    "]"
   ]
  },
  {
   "cell_type": "code",
   "execution_count": 29,
   "id": "1cbaa8d4",
   "metadata": {},
   "outputs": [],
   "source": [
    "descriptions = [movie['description'] for movie in movies]\n",
    "desc_embed = np.array([model.encode(description) for description in descriptions], dtype=\"float32\")"
   ]
  },
  {
   "cell_type": "code",
   "execution_count": 30,
   "id": "86951a3a",
   "metadata": {},
   "outputs": [],
   "source": [
    "dim = desc_embed.shape[1]\n",
    "idx = faiss.IndexFlatL2(dim)\n",
    "idx.add(desc_embed)"
   ]
  },
  {
   "cell_type": "code",
   "execution_count": 31,
   "id": "9ea3c6bb",
   "metadata": {},
   "outputs": [],
   "source": [
    "query_text = \"히어로 이야기\"\n",
    "query_embed = np.array([model.encode(query_text)], dtype='float32')"
   ]
  },
  {
   "cell_type": "code",
   "execution_count": 32,
   "id": "e42c5de9",
   "metadata": {},
   "outputs": [],
   "source": [
    "top_n = 5\n",
    "distances, indices = idx.search(query_embed, top_n)"
   ]
  },
  {
   "cell_type": "code",
   "execution_count": 33,
   "id": "094121ea",
   "metadata": {},
   "outputs": [
    {
     "name": "stdout",
     "output_type": "stream",
     "text": [
      "[[0.82064337 0.85785466 0.8603085  0.9253434  0.9464458 ]]\n",
      "[[ 7  0 10 11  8]]\n"
     ]
    }
   ],
   "source": [
    "print(distances)\n",
    "print(indices)"
   ]
  },
  {
   "cell_type": "code",
   "execution_count": 34,
   "id": "d7c33ca6",
   "metadata": {},
   "outputs": [
    {
     "name": "stdout",
     "output_type": "stream",
     "text": [
      "1번째 추천: 조커 (유사도 거리: 0.82)\n",
      "2번째 추천: 인셉션 (유사도 거리: 0.86)\n",
      "3번째 추천: 올드보이 (유사도 거리: 0.86)\n",
      "4번째 추천: 해리 포터와 마법사의 돌 (유사도 거리: 0.93)\n",
      "5번째 추천: 매드 맥스: 분노의 도로 (유사도 거리: 0.95)\n"
     ]
    }
   ],
   "source": [
    "for i in range(top_n):\n",
    "    movie_id = indices[0][i]\n",
    "    print(f\"{i+1}번째 추천: {movies[movie_id]['title']} (유사도 거리: {distances[0][i]:.2f})\")"
   ]
  },
  {
   "cell_type": "markdown",
   "id": "d7cfbffc",
   "metadata": {},
   "source": [
    "### 사용자 맞춤 뉴스 추천 <실습>"
   ]
  },
  {
   "cell_type": "code",
   "execution_count": null,
   "id": "c8e7b30e",
   "metadata": {},
   "outputs": [],
   "source": [
    "# 뉴스의 제목을 10, 20 크롤링\n",
    "# 키워드 입력\n",
    "# FAISS 활용해 맞춤 뉴스 추천"
   ]
  }
 ],
 "metadata": {
  "kernelspec": {
   "display_name": "vectordb_env",
   "language": "python",
   "name": "python3"
  },
  "language_info": {
   "codemirror_mode": {
    "name": "ipython",
    "version": 3
   },
   "file_extension": ".py",
   "mimetype": "text/x-python",
   "name": "python",
   "nbconvert_exporter": "python",
   "pygments_lexer": "ipython3",
   "version": "3.9.21"
  }
 },
 "nbformat": 4,
 "nbformat_minor": 5
}
